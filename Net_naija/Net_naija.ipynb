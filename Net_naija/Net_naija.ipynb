{
 "cells": [
  {
   "cell_type": "markdown",
   "metadata": {},
   "source": [
    "# Webscraping Netnaija \n",
    "### Author: Sachimugu \n",
    "Email: <a href=\"mailto:sachimugu@outlook.com\"> Email</a>"
   ]
  },
  {
   "cell_type": "markdown",
   "metadata": {},
   "source": [
    "### Importing all relevant libraries"
   ]
  },
  {
   "cell_type": "code",
   "execution_count": 1,
   "metadata": {},
   "outputs": [],
   "source": [
    "import pandas as pd\n",
    "import requests\n",
    "from bs4 import BeautifulSoup\n",
    "from tqdm.notebook import tqdm_notebook"
   ]
  },
  {
   "cell_type": "markdown",
   "metadata": {},
   "source": [
    "**pip install all these if you dont have them**"
   ]
  },
  {
   "cell_type": "markdown",
   "metadata": {
    "heading_collapsed": true
   },
   "source": [
    "### Creating resuable fuctions"
   ]
  },
  {
   "cell_type": "code",
   "execution_count": 2,
   "metadata": {
    "hidden": true
   },
   "outputs": [],
   "source": [
    "#function to load a url and parse it content\n",
    "def browse(url): #browse function\n",
    "    page= requests.get(url) #to load a url\n",
    "    soup= BeautifulSoup(page.content, 'lxml') # parse it content\n",
    "    return soup\n",
    "\n",
    "\n",
    "#function to get the next page link\n",
    "def nextpage(soup): #nextpage function\n",
    "    try:\n",
    "        nxtpage=soup.find('a', class_=\"next page-numbers\", href=True)['href']\n",
    "        return nxtpage #return the page link\n",
    "    except:\n",
    "        return #return nothing if at the last page\n",
    "        "
   ]
  },
  {
   "cell_type": "code",
   "execution_count": 3,
   "metadata": {},
   "outputs": [],
   "source": [
    "#gets last page\n",
    "url=\"https://www.thenetnaija.com/videos/movies\"\n",
    "soup=browse(url) \n",
    "x= int(soup.find('ul', class_='pagination').text[7:-1])-1"
   ]
  },
  {
   "cell_type": "markdown",
   "metadata": {},
   "source": [
    "###  Loop to get link of all pages"
   ]
  },
  {
   "cell_type": "code",
   "execution_count": 4,
   "metadata": {},
   "outputs": [
    {
     "data": {
      "application/vnd.jupyter.widget-view+json": {
       "model_id": "38cf4360ffa14922bfa4fce7976bc001",
       "version_major": 2,
       "version_minor": 0
      },
      "text/plain": [
       "Loading....:   0%|          | 0/171 [00:00<?, ?it/s]"
      ]
     },
     "metadata": {},
     "output_type": "display_data"
    }
   ],
   "source": [
    "#Base url\n",
    "url=\"https://www.thenetnaija.com/videos/movies\" #open on your browser to get a feel of the site architecture\n",
    "\n",
    "page_link=[] # empty list to store list of all pages\n",
    "\n",
    "for i in tqdm_notebook(range(x), desc= 'Loading....'):\n",
    "    soup=browse(url) # load the base url\n",
    "    url=nextpage(soup)# get next page on base url append it to page list and become the new base url\n",
    "    if not url:\n",
    "        break\n",
    "    page_link.append(url)\n",
    "    "
   ]
  },
  {
   "cell_type": "code",
   "execution_count": 5,
   "metadata": {},
   "outputs": [
    {
     "data": {
      "text/plain": [
       "171"
      ]
     },
     "execution_count": 5,
     "metadata": {},
     "output_type": "execute_result"
    }
   ],
   "source": [
    "len(page_link)"
   ]
  },
  {
   "cell_type": "markdown",
   "metadata": {
    "heading_collapsed": true
   },
   "source": [
    "### Loop to get the links to all movies on each page"
   ]
  },
  {
   "cell_type": "code",
   "execution_count": 6,
   "metadata": {
    "hidden": true
   },
   "outputs": [
    {
     "data": {
      "application/vnd.jupyter.widget-view+json": {
       "model_id": "d34dc2e6dd70474ca407c7eb30baa23b",
       "version_major": 2,
       "version_minor": 0
      },
      "text/plain": [
       "Loading...:   0%|          | 0/171 [00:00<?, ?it/s]"
      ]
     },
     "metadata": {},
     "output_type": "display_data"
    }
   ],
   "source": [
    "movie_links=[] # empty list to store movie links form each page\n",
    "for page in tqdm_notebook(page_link, desc='Loading...'): # a for loop to get each page from the page list\n",
    "    soup= browse(page) # load each page and parse\n",
    "    \n",
    "    # this series of code get all link to movies on each page and append it to movie_links\n",
    "    video_files=soup.find(\"div\", class_=\"video-files\")\n",
    "    class_info=video_files.findAll(\"div\", class_=\"info\")\n",
    "    for x in class_info:\n",
    "        link=x.find(\"a\", href=True)['href']\n",
    "        movie_links.append(link)\n",
    "        "
   ]
  },
  {
   "cell_type": "markdown",
   "metadata": {},
   "source": [
    "### Empty list to store data we need about each movie"
   ]
  },
  {
   "cell_type": "code",
   "execution_count": 7,
   "metadata": {},
   "outputs": [],
   "source": [
    "titles=[]  # movie titles\n",
    "movie_linkss=[] # movie links\n",
    "movie_types=[] #video type\n",
    "time_of_uplos=[] # date of upload\n",
    "movie_lengths=[] # lenght of movie\n",
    "num_of_comments=[] #numbers of comment\n",
    "mo_summarys=[] # moive summary\n",
    "Genres=[] #movie genre\n",
    "Release_Dates=[] #release date\n",
    "Starss=[] # actors and actress\n",
    "Languages=[] #movie language\n",
    "Subtitles=[] #available subtitle\n",
    "imdb_links=[] #imdb link"
   ]
  },
  {
   "cell_type": "markdown",
   "metadata": {
    "heading_collapsed": true
   },
   "source": [
    "### Getting data about each movie"
   ]
  },
  {
   "cell_type": "code",
   "execution_count": 9,
   "metadata": {
    "hidden": true
   },
   "outputs": [
    {
     "data": {
      "application/vnd.jupyter.widget-view+json": {
       "model_id": "eabe2d1aafd4401eb0694916936beba3",
       "version_major": 2,
       "version_minor": 0
      },
      "text/plain": [
       "Loading:   0%|          | 0/3073 [00:00<?, ?it/s]"
      ]
     },
     "metadata": {},
     "output_type": "display_data"
    }
   ],
   "source": [
    "\n",
    "for link in tqdm_notebook(movie_links, desc='Loading'):\n",
    "    soup= browse(link) # browse movie link and parse\n",
    "    \n",
    "    #This series of code get the requried data and append to the data list\n",
    "    try:\n",
    "        title=soup.find('h1', class_=\"page-h1\").text \n",
    "        titles.append(title)\n",
    "    except:\n",
    "        titles.append(' ')\n",
    "    post_meta=soup.find(\"div\", class_=\"post-meta\")\n",
    "    try:\n",
    "        movie_link=post_meta.find('a', href=True)['href']\n",
    "        movie_linkss.append(movie_link)\n",
    "    except:\n",
    "        movie_links.append(' ')\n",
    "    meta_one=soup.findAll('span', class_='meta-one')\n",
    "    try:\n",
    "        movie_type=meta_one[0].text.split()\n",
    "        movie_types.append(movie_type)\n",
    "    except:\n",
    "        movie_types.append(' ')\n",
    "    x=meta_one[1].text.split()\n",
    "    try:\n",
    "        time_of_uplo=' '.join(x)\n",
    "        time_of_uplos.append(time_of_uplo)\n",
    "    except:\n",
    "        time_of_uplos.append(' ')\n",
    "    try:\n",
    "        movie_length=meta_one[2].text.split()\n",
    "        movie_lengths.append(movie_length)\n",
    "    except:\n",
    "        movie_lengths.append(' ')\n",
    "    try:\n",
    "        num_of_comment=meta_one[3].text.split()\n",
    "        num_of_comments.append(num_of_comment)\n",
    "    except:\n",
    "        num_of_comments.append('0')\n",
    "    try:\n",
    "        mo_summary=soup.find('p').next_element\n",
    "        mo_summarys.append(mo_summary)\n",
    "    except:\n",
    "        mo_summarys.append(' ')\n",
    "    try:\n",
    "        block=soup.find('blockquote', class_='quote-content')\n",
    "        y=block.findAll('p')\n",
    "        \n",
    "        try:\n",
    "            Genre=y[1].text.split(':')[1:]\n",
    "            Genres.append(Genre)\n",
    "        except:\n",
    "            Genres.append('missing')\n",
    "        try:\n",
    "            Release_Date=y[2].text\n",
    "            Release_Dates.append(Release_Date)\n",
    "        except:\n",
    "            Release_Dates.append('missing')\n",
    "\n",
    "        try:\n",
    "            Stars=y[3].text.split(':')[1:]\n",
    "            Starss.append(Stars)\n",
    "        except:\n",
    "            Starss.append('missing')\n",
    "\n",
    "        try:\n",
    "            Language=y[5].text.split(':')[1:]\n",
    "            Languages.append(Language)\n",
    "        except:\n",
    "              Languages.append('missing')\n",
    "        try:\n",
    "            Subtitle=y[6].text.split(':')[1:]\n",
    "            Subtitles.append(Subtitle)\n",
    "        except:\n",
    "            Subtitles.append('missing')\n",
    "\n",
    "    except:\n",
    "        Genres.append('missing')\n",
    "        Release_Dates.append('missing')\n",
    "        Starss.append('missing')\n",
    "        Languages.append('missing')\n",
    "        Subtitles.append('missing')\n",
    "            \n",
    "   \n",
    "    try:\n",
    "        imdb_link=block.find('a', href=True)['href']\n",
    "        imdb_links.append(imdb_link)\n",
    "    except:\n",
    "         imdb_links.append('missing')\n",
    "        "
   ]
  },
  {
   "cell_type": "markdown",
   "metadata": {
    "heading_collapsed": true
   },
   "source": [
    "### Creating a table of all data with pandas dataframe"
   ]
  },
  {
   "cell_type": "code",
   "execution_count": 10,
   "metadata": {
    "hidden": true
   },
   "outputs": [],
   "source": [
    "df=pd.DataFrame({\"titles\":titles,       \n",
    "              \"movie_types\":movie_types,\n",
    "              \"time_of_uplos\":time_of_uplos,\n",
    "              \"movie_lengths\":movie_lengths,\n",
    "              \"num_of_comments\":num_of_comments,\n",
    "              \"Genres\":Genres,\n",
    "              \"Release_Dates\":Release_Dates,\n",
    "              \"Starss\":Starss,\n",
    "              \"Languages\":Languages,\n",
    "              \"Subtitles\":Subtitles,\n",
    "              \"movie_linkss\":movie_linkss,  \n",
    "              \"imdb_links\":imdb_links,\n",
    "              \"mo_summarys\":mo_summarys,   \n",
    "             })"
   ]
  },
  {
   "cell_type": "markdown",
   "metadata": {},
   "source": [
    "### save data in cvs and excel format "
   ]
  },
  {
   "cell_type": "code",
   "execution_count": 11,
   "metadata": {},
   "outputs": [],
   "source": [
    "df.to_csv('./Data/netnaija_movie.csv')\n",
    "df.to_excel('./Data/netnaija_movie.xlsx')"
   ]
  },
  {
   "cell_type": "code",
   "execution_count": 12,
   "metadata": {},
   "outputs": [
    {
     "name": "stdout",
     "output_type": "stream",
     "text": [
      "<class 'pandas.core.frame.DataFrame'>\n",
      "RangeIndex: 3073 entries, 0 to 3072\n",
      "Data columns (total 13 columns):\n",
      " #   Column           Non-Null Count  Dtype \n",
      "---  ------           --------------  ----- \n",
      " 0   titles           3073 non-null   object\n",
      " 1   movie_types      3073 non-null   object\n",
      " 2   time_of_uplos    3073 non-null   object\n",
      " 3   movie_lengths    3073 non-null   object\n",
      " 4   num_of_comments  3073 non-null   object\n",
      " 5   Genres           3073 non-null   object\n",
      " 6   Release_Dates    3073 non-null   object\n",
      " 7   Starss           3073 non-null   object\n",
      " 8   Languages        3073 non-null   object\n",
      " 9   Subtitles        3073 non-null   object\n",
      " 10  movie_linkss     3073 non-null   object\n",
      " 11  imdb_links       3073 non-null   object\n",
      " 12  mo_summarys      3073 non-null   object\n",
      "dtypes: object(13)\n",
      "memory usage: 312.2+ KB\n"
     ]
    }
   ],
   "source": [
    "df.info()"
   ]
  },
  {
   "cell_type": "code",
   "execution_count": 13,
   "metadata": {},
   "outputs": [
    {
     "data": {
      "text/html": [
       "<div>\n",
       "<style scoped>\n",
       "    .dataframe tbody tr th:only-of-type {\n",
       "        vertical-align: middle;\n",
       "    }\n",
       "\n",
       "    .dataframe tbody tr th {\n",
       "        vertical-align: top;\n",
       "    }\n",
       "\n",
       "    .dataframe thead th {\n",
       "        text-align: right;\n",
       "    }\n",
       "</style>\n",
       "<table border=\"1\" class=\"dataframe\">\n",
       "  <thead>\n",
       "    <tr style=\"text-align: right;\">\n",
       "      <th></th>\n",
       "      <th>titles</th>\n",
       "      <th>movie_types</th>\n",
       "      <th>time_of_uplos</th>\n",
       "      <th>movie_lengths</th>\n",
       "      <th>num_of_comments</th>\n",
       "      <th>Genres</th>\n",
       "      <th>Release_Dates</th>\n",
       "      <th>Starss</th>\n",
       "      <th>Languages</th>\n",
       "      <th>Subtitles</th>\n",
       "      <th>movie_linkss</th>\n",
       "      <th>imdb_links</th>\n",
       "      <th>mo_summarys</th>\n",
       "    </tr>\n",
       "  </thead>\n",
       "  <tbody>\n",
       "    <tr>\n",
       "      <th>0</th>\n",
       "      <td>Clean (2022)</td>\n",
       "      <td>[Movies]</td>\n",
       "      <td>Jan 28</td>\n",
       "      <td>[01:33:27]</td>\n",
       "      <td>[56]</td>\n",
       "      <td>[ Crime, Drama, Thriller]</td>\n",
       "      <td>Release Date: Jan 28, 2022 (United States)</td>\n",
       "      <td>[ Adrien Brody, Glenn Fleshler, Richie Merritt]</td>\n",
       "      <td>[ English]</td>\n",
       "      <td>[ English]</td>\n",
       "      <td>https://www.thenetnaija.co/videos/movies</td>\n",
       "      <td>https://www.secure.zabira.ng/register?utm_sour...</td>\n",
       "      <td>[Revenge is a dirty business.]</td>\n",
       "    </tr>\n",
       "    <tr>\n",
       "      <th>1</th>\n",
       "      <td>The Ice Age Adventures of Buck Wild (2022)</td>\n",
       "      <td>[Movies]</td>\n",
       "      <td>Jan 28</td>\n",
       "      <td>[01:21:05]</td>\n",
       "      <td>[81]</td>\n",
       "      <td>[ Adventure, Animation, Comedy, Family]</td>\n",
       "      <td>Release Date: Jan 28, 2022 (United States)</td>\n",
       "      <td>[ Simon Pegg, Vincent Tong, Aaron Harris]</td>\n",
       "      <td>[ English]</td>\n",
       "      <td>[ English]</td>\n",
       "      <td>https://www.thenetnaija.co/videos/movies</td>\n",
       "      <td>https://www.secure.zabira.ng/register?utm_sour...</td>\n",
       "      <td>[Disney+ gets wild.]</td>\n",
       "    </tr>\n",
       "    <tr>\n",
       "      <th>2</th>\n",
       "      <td>In the Forest (2022)</td>\n",
       "      <td>[Movies]</td>\n",
       "      <td>Jan 28</td>\n",
       "      <td>[01:23:11]</td>\n",
       "      <td>[39]</td>\n",
       "      <td>[ Horror, Thriller]</td>\n",
       "      <td>Release Date: Jan 28, 2022 (United States)</td>\n",
       "      <td>[ Debbon Ayer, Cristina Spruell, Lyman Ward]</td>\n",
       "      <td>[ English]</td>\n",
       "      <td>[ English]</td>\n",
       "      <td>https://www.thenetnaija.co/videos/movies</td>\n",
       "      <td>https://www.secure.zabira.ng/register?utm_sour...</td>\n",
       "      <td>Helen and her daughter Emily reluctantly accom...</td>\n",
       "    </tr>\n",
       "    <tr>\n",
       "      <th>3</th>\n",
       "      <td>Twice Bitten (2021)</td>\n",
       "      <td>[Movies]</td>\n",
       "      <td>Jan 28</td>\n",
       "      <td>[01:28:07]</td>\n",
       "      <td>[18]</td>\n",
       "      <td>[ Jul 11, 2021 (United States)]</td>\n",
       "      <td>Stars: LisaRaye McCoy, Ledisi, Kevin A. Walton...</td>\n",
       "      <td>[ Twice.Bitten.2021.1080p.AMZN.WEBRip.DDP2.0.x...</td>\n",
       "      <td>[ English]</td>\n",
       "      <td>[ https, //www.imdb.com/title/tt14191916/]</td>\n",
       "      <td>https://www.thenetnaija.co/videos/movies</td>\n",
       "      <td>https://www.secure.zabira.ng/register?utm_sour...</td>\n",
       "      <td>An unmitigated and sexy conman targets his nex...</td>\n",
       "    </tr>\n",
       "    <tr>\n",
       "      <th>4</th>\n",
       "      <td>The Fallout (2022)</td>\n",
       "      <td>[Movies]</td>\n",
       "      <td>Jan 27</td>\n",
       "      <td>[01:36:00]</td>\n",
       "      <td>[34]</td>\n",
       "      <td>[ Drama]</td>\n",
       "      <td>Release Date: Jan 27, 2022 (United States)</td>\n",
       "      <td>[ Jenna Ortega, Shailene Woodley, Julie Bowen]</td>\n",
       "      <td>[ English]</td>\n",
       "      <td>[ English]</td>\n",
       "      <td>https://www.thenetnaija.co/videos/movies</td>\n",
       "      <td>https://www.secure.zabira.ng/register?utm_sour...</td>\n",
       "      <td>[Nothing will ever be the same.]</td>\n",
       "    </tr>\n",
       "  </tbody>\n",
       "</table>\n",
       "</div>"
      ],
      "text/plain": [
       "                                       titles movie_types time_of_uplos  \\\n",
       "0                                Clean (2022)    [Movies]        Jan 28   \n",
       "1  The Ice Age Adventures of Buck Wild (2022)    [Movies]        Jan 28   \n",
       "2                        In the Forest (2022)    [Movies]        Jan 28   \n",
       "3                         Twice Bitten (2021)    [Movies]        Jan 28   \n",
       "4                          The Fallout (2022)    [Movies]        Jan 27   \n",
       "\n",
       "  movie_lengths num_of_comments                                   Genres  \\\n",
       "0    [01:33:27]            [56]                [ Crime, Drama, Thriller]   \n",
       "1    [01:21:05]            [81]  [ Adventure, Animation, Comedy, Family]   \n",
       "2    [01:23:11]            [39]                      [ Horror, Thriller]   \n",
       "3    [01:28:07]            [18]          [ Jul 11, 2021 (United States)]   \n",
       "4    [01:36:00]            [34]                                 [ Drama]   \n",
       "\n",
       "                                       Release_Dates  \\\n",
       "0         Release Date: Jan 28, 2022 (United States)   \n",
       "1         Release Date: Jan 28, 2022 (United States)   \n",
       "2         Release Date: Jan 28, 2022 (United States)   \n",
       "3  Stars: LisaRaye McCoy, Ledisi, Kevin A. Walton...   \n",
       "4         Release Date: Jan 27, 2022 (United States)   \n",
       "\n",
       "                                              Starss   Languages  \\\n",
       "0    [ Adrien Brody, Glenn Fleshler, Richie Merritt]  [ English]   \n",
       "1          [ Simon Pegg, Vincent Tong, Aaron Harris]  [ English]   \n",
       "2       [ Debbon Ayer, Cristina Spruell, Lyman Ward]  [ English]   \n",
       "3  [ Twice.Bitten.2021.1080p.AMZN.WEBRip.DDP2.0.x...  [ English]   \n",
       "4     [ Jenna Ortega, Shailene Woodley, Julie Bowen]  [ English]   \n",
       "\n",
       "                                    Subtitles  \\\n",
       "0                                  [ English]   \n",
       "1                                  [ English]   \n",
       "2                                  [ English]   \n",
       "3  [ https, //www.imdb.com/title/tt14191916/]   \n",
       "4                                  [ English]   \n",
       "\n",
       "                               movie_linkss  \\\n",
       "0  https://www.thenetnaija.co/videos/movies   \n",
       "1  https://www.thenetnaija.co/videos/movies   \n",
       "2  https://www.thenetnaija.co/videos/movies   \n",
       "3  https://www.thenetnaija.co/videos/movies   \n",
       "4  https://www.thenetnaija.co/videos/movies   \n",
       "\n",
       "                                          imdb_links  \\\n",
       "0  https://www.secure.zabira.ng/register?utm_sour...   \n",
       "1  https://www.secure.zabira.ng/register?utm_sour...   \n",
       "2  https://www.secure.zabira.ng/register?utm_sour...   \n",
       "3  https://www.secure.zabira.ng/register?utm_sour...   \n",
       "4  https://www.secure.zabira.ng/register?utm_sour...   \n",
       "\n",
       "                                         mo_summarys  \n",
       "0                     [Revenge is a dirty business.]  \n",
       "1                               [Disney+ gets wild.]  \n",
       "2  Helen and her daughter Emily reluctantly accom...  \n",
       "3  An unmitigated and sexy conman targets his nex...  \n",
       "4                   [Nothing will ever be the same.]  "
      ]
     },
     "execution_count": 13,
     "metadata": {},
     "output_type": "execute_result"
    }
   ],
   "source": [
    "df.head(5)"
   ]
  },
  {
   "cell_type": "code",
   "execution_count": null,
   "metadata": {},
   "outputs": [],
   "source": []
  }
 ],
 "metadata": {
  "kernelspec": {
   "display_name": "Python 3 (ipykernel)",
   "language": "python",
   "name": "python3"
  },
  "language_info": {
   "codemirror_mode": {
    "name": "ipython",
    "version": 3
   },
   "file_extension": ".py",
   "mimetype": "text/x-python",
   "name": "python",
   "nbconvert_exporter": "python",
   "pygments_lexer": "ipython3",
   "version": "3.9.7"
  }
 },
 "nbformat": 4,
 "nbformat_minor": 4
}
