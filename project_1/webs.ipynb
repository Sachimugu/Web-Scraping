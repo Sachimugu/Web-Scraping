{
 "cells": [
  {
   "cell_type": "markdown",
   "metadata": {},
   "source": [
    "# Webscraping Netnaija \n",
    "### Author: Sachimugu \n",
    "Email: <a href=\"mailto:sachimugu@outlook.com\"> Email</a>"
   ]
  },
  {
   "cell_type": "markdown",
   "metadata": {},
   "source": [
    "### Importing all relevant libraries"
   ]
  },
  {
   "cell_type": "code",
   "execution_count": 1,
   "metadata": {},
   "outputs": [],
   "source": [
    "import pandas as pd\n",
    "import requests\n",
    "from bs4 import BeautifulSoup"
   ]
  },
  {
   "cell_type": "markdown",
   "metadata": {
    "heading_collapsed": true
   },
   "source": [
    "### Creating resuable fuctions"
   ]
  },
  {
   "cell_type": "code",
   "execution_count": 2,
   "metadata": {
    "hidden": true
   },
   "outputs": [],
   "source": [
    "#function to load a url and parse it content\n",
    "def browse(url): #browse function\n",
    "    page= requests.get(url) #to load a url\n",
    "    soup= BeautifulSoup(page.content, 'lxml') # parse it content\n",
    "    return soup\n",
    "\n",
    "\n",
    "#function to get the next page link\n",
    "def nextpage(soup): #nextpage function\n",
    "    try:\n",
    "        nxtpage=soup.find('a', class_=\"next page-numbers\", href=True)['href']\n",
    "        return nxtpage #return the page link\n",
    "    except:\n",
    "        return #return nothing if at the last page\n",
    "        "
   ]
  },
  {
   "cell_type": "markdown",
   "metadata": {},
   "source": [
    "###  Loop to get link of all pages"
   ]
  },
  {
   "cell_type": "code",
   "execution_count": 3,
   "metadata": {},
   "outputs": [],
   "source": [
    "#Base url\n",
    "url=\"https://www.thenetnaija.com/videos/movies\" #open on your browser to get a feel of the site architecture\n",
    "\n",
    "page_link=[] # empty list to store list of all pages\n",
    "\n",
    "while True:\n",
    "    soup=browse(url) # load the base url\n",
    "    url=nextpage(soup)# get next page on base url append it to page list and become the new base url\n",
    "    if not url:\n",
    "        break\n",
    "    page_link.append(url)\n",
    "    "
   ]
  },
  {
   "cell_type": "code",
   "execution_count": 4,
   "metadata": {},
   "outputs": [
    {
     "data": {
      "text/plain": [
       "152"
      ]
     },
     "execution_count": 4,
     "metadata": {},
     "output_type": "execute_result"
    }
   ],
   "source": [
    "len(page_link)"
   ]
  },
  {
   "cell_type": "markdown",
   "metadata": {
    "heading_collapsed": true
   },
   "source": [
    "### Loop to get the links to all movies on each page"
   ]
  },
  {
   "cell_type": "code",
   "execution_count": 5,
   "metadata": {
    "hidden": true
   },
   "outputs": [],
   "source": [
    "movie_links=[] # empty list to store movie links form each page\n",
    "for page in page_link: # a for loop to get each page from the page list\n",
    "    soup= browse(page) # load each page and parse\n",
    "    \n",
    "    # this series of code get all link to movies on each page and append it to movie_links\n",
    "    video_files=soup.find(\"div\", class_=\"video-files\")\n",
    "    class_info=video_files.findAll(\"div\", class_=\"info\")\n",
    "    for x in class_info:\n",
    "        link=x.find(\"a\", href=True)['href']\n",
    "        movie_links.append(link)\n",
    "        "
   ]
  },
  {
   "cell_type": "markdown",
   "metadata": {},
   "source": [
    "### Empty list to store data we need about each movie"
   ]
  },
  {
   "cell_type": "code",
   "execution_count": 7,
   "metadata": {},
   "outputs": [],
   "source": [
    "titles=[]  # movie titles\n",
    "movie_linkss=[] # movie links\n",
    "movie_types=[] #video type\n",
    "time_of_uplos=[] # date of upload\n",
    "movie_lengths=[] # lenght of movie\n",
    "num_of_comments=[] #numbers of comment\n",
    "mo_summarys=[] # moive summary\n",
    "Genres=[] #movie genre\n",
    "Release_Dates=[] #release date\n",
    "Starss=[] # actors and actress\n",
    "Languages=[] #movie language\n",
    "Subtitles=[] #available subtitle\n",
    "imdb_links=[] #imdb link"
   ]
  },
  {
   "cell_type": "markdown",
   "metadata": {
    "heading_collapsed": true
   },
   "source": [
    "### Getting data about each movie"
   ]
  },
  {
   "cell_type": "code",
   "execution_count": 8,
   "metadata": {
    "hidden": true
   },
   "outputs": [],
   "source": [
    "\n",
    "for link in movie_links:\n",
    "    soup= browse(link) # browse movie link and parse\n",
    "    \n",
    "    #This series of code get the requried data and append to the data list\n",
    "    try:\n",
    "        title=soup.find('h1', class_=\"page-h1\").text \n",
    "        titles.append(title)\n",
    "    except:\n",
    "        titles.append(' ')\n",
    "    post_meta=soup.find(\"div\", class_=\"post-meta\")\n",
    "    try:\n",
    "        movie_link=post_meta.find('a', href=True)['href']\n",
    "        movie_linkss.append(movie_link)\n",
    "    except:\n",
    "        movie_links.append(' ')\n",
    "    meta_one=soup.findAll('span', class_='meta-one')\n",
    "    try:\n",
    "        movie_type=meta_one[0].text.split()\n",
    "        movie_types.append(movie_type)\n",
    "    except:\n",
    "        movie_types.append(' ')\n",
    "    x=meta_one[1].text.split()\n",
    "    try:\n",
    "        time_of_uplo=' '.join(x)\n",
    "        time_of_uplos.append(time_of_uplo)\n",
    "    except:\n",
    "        time_of_uplos.append(' ')\n",
    "    try:\n",
    "        movie_length=meta_one[2].text.split()\n",
    "        movie_lengths.append(movie_length)\n",
    "    except:\n",
    "        movie_lengths.append(' ')\n",
    "    try:\n",
    "        num_of_comment=meta_one[3].text.split()\n",
    "        num_of_comments.append(num_of_comment)\n",
    "    except:\n",
    "        num_of_comments.append('0')\n",
    "    try:\n",
    "        mo_summary=soup.find('p').next_element\n",
    "        mo_summarys.append(mo_summary)\n",
    "    except:\n",
    "        mo_summarys.append(' ')\n",
    "    try:\n",
    "        block=soup.find('blockquote', class_='quote-content')\n",
    "        y=block.findAll('p')\n",
    "        \n",
    "        try:\n",
    "            Genre=y[1].text.split(':')[1:]\n",
    "            Genres.append(Genre)\n",
    "        except:\n",
    "            Genres.append('missing')\n",
    "        try:\n",
    "            Release_Date=y[2].text\n",
    "            Release_Dates.append(Release_Date)\n",
    "        except:\n",
    "            Release_Dates.append('missing')\n",
    "\n",
    "        try:\n",
    "            Stars=y[3].text.split(':')[1:]\n",
    "            Starss.append(Stars)\n",
    "        except:\n",
    "            Starss.append('missing')\n",
    "\n",
    "        try:\n",
    "            Language=y[5].text.split(':')[1:]\n",
    "            Languages.append(Language)\n",
    "        except:\n",
    "              Languages.append('missing')\n",
    "        try:\n",
    "            Subtitle=y[6].text.split(':')[1:]\n",
    "            Subtitles.append(Subtitle)\n",
    "        except:\n",
    "            Subtitles.append('missing')\n",
    "\n",
    "    except:\n",
    "        Genres.append('missing')\n",
    "        Release_Dates.append('missing')\n",
    "        Starss.append('missing')\n",
    "        Languages.append('missing')\n",
    "        Subtitles.append('missing')\n",
    "            \n",
    "   \n",
    "    try:\n",
    "        imdb_link=block.find('a', href=True)['href']\n",
    "        imdb_links.append(imdb_link)\n",
    "    except:\n",
    "         imdb_links.append('missing')\n",
    "        "
   ]
  },
  {
   "cell_type": "markdown",
   "metadata": {
    "heading_collapsed": true
   },
   "source": [
    "### Creating a table of all data with pandas dataframe"
   ]
  },
  {
   "cell_type": "code",
   "execution_count": 9,
   "metadata": {
    "hidden": true
   },
   "outputs": [],
   "source": [
    "df=pd.DataFrame({\"titles\":titles,       \n",
    "              \"movie_types\":movie_types,\n",
    "              \"time_of_uplos\":time_of_uplos,\n",
    "              \"movie_lengths\":movie_lengths,\n",
    "              \"num_of_comments\":num_of_comments,\n",
    "              \"Genres\":Genres,\n",
    "              \"Release_Dates\":Release_Dates,\n",
    "              \"Starss\":Starss,\n",
    "              \"Languages\":Languages,\n",
    "              \"Subtitles\":Subtitles,\n",
    "              \"movie_linkss\":movie_linkss,  \n",
    "              \"imdb_links\":imdb_links,\n",
    "              \"mo_summarys\":mo_summarys,   \n",
    "             })"
   ]
  },
  {
   "cell_type": "markdown",
   "metadata": {},
   "source": [
    "### save data in cvs and excel format "
   ]
  },
  {
   "cell_type": "code",
   "execution_count": 11,
   "metadata": {},
   "outputs": [],
   "source": [
    "df.to_csv('./Data/netnaija_movie.csv')\n",
    "df.to_excel('./Data/netnaija_movie.xlsx')"
   ]
  },
  {
   "cell_type": "code",
   "execution_count": 12,
   "metadata": {},
   "outputs": [
    {
     "name": "stdout",
     "output_type": "stream",
     "text": [
      "<class 'pandas.core.frame.DataFrame'>\n",
      "RangeIndex: 2731 entries, 0 to 2730\n",
      "Data columns (total 13 columns):\n",
      " #   Column           Non-Null Count  Dtype \n",
      "---  ------           --------------  ----- \n",
      " 0   titles           2731 non-null   object\n",
      " 1   movie_types      2731 non-null   object\n",
      " 2   time_of_uplos    2731 non-null   object\n",
      " 3   movie_lengths    2731 non-null   object\n",
      " 4   num_of_comments  2731 non-null   object\n",
      " 5   Genres           2731 non-null   object\n",
      " 6   Release_Dates    2731 non-null   object\n",
      " 7   Starss           2731 non-null   object\n",
      " 8   Languages        2731 non-null   object\n",
      " 9   Subtitles        2731 non-null   object\n",
      " 10  movie_linkss     2731 non-null   object\n",
      " 11  imdb_links       2731 non-null   object\n",
      " 12  mo_summarys      2731 non-null   object\n",
      "dtypes: object(13)\n",
      "memory usage: 277.5+ KB\n"
     ]
    }
   ],
   "source": [
    "df.info()"
   ]
  },
  {
   "cell_type": "code",
   "execution_count": 13,
   "metadata": {},
   "outputs": [
    {
     "data": {
      "text/html": [
       "<div>\n",
       "<style scoped>\n",
       "    .dataframe tbody tr th:only-of-type {\n",
       "        vertical-align: middle;\n",
       "    }\n",
       "\n",
       "    .dataframe tbody tr th {\n",
       "        vertical-align: top;\n",
       "    }\n",
       "\n",
       "    .dataframe thead th {\n",
       "        text-align: right;\n",
       "    }\n",
       "</style>\n",
       "<table border=\"1\" class=\"dataframe\">\n",
       "  <thead>\n",
       "    <tr style=\"text-align: right;\">\n",
       "      <th></th>\n",
       "      <th>titles</th>\n",
       "      <th>movie_types</th>\n",
       "      <th>time_of_uplos</th>\n",
       "      <th>movie_lengths</th>\n",
       "      <th>num_of_comments</th>\n",
       "      <th>Genres</th>\n",
       "      <th>Release_Dates</th>\n",
       "      <th>Starss</th>\n",
       "      <th>Languages</th>\n",
       "      <th>Subtitles</th>\n",
       "      <th>movie_linkss</th>\n",
       "      <th>imdb_links</th>\n",
       "      <th>mo_summarys</th>\n",
       "    </tr>\n",
       "  </thead>\n",
       "  <tbody>\n",
       "    <tr>\n",
       "      <th>0</th>\n",
       "      <td>Sweet Carolina (2021)</td>\n",
       "      <td>[Movies]</td>\n",
       "      <td>Sep 07</td>\n",
       "      <td>[01:24:40]</td>\n",
       "      <td>[25]</td>\n",
       "      <td>[ Comedy, Family, Romance]</td>\n",
       "      <td>Release Date: May 15, 2021</td>\n",
       "      <td>[ Lacey Chabert, Tyler Hynes, Gregory Harrison]</td>\n",
       "      <td>[ English]</td>\n",
       "      <td>[ English]</td>\n",
       "      <td>https://www.thenetnaija.com/videos/movies</td>\n",
       "      <td>https://www.imdb.com/title/tt14477372/</td>\n",
       "      <td>[A family's loss becomes an unexpected gift]</td>\n",
       "    </tr>\n",
       "    <tr>\n",
       "      <th>1</th>\n",
       "      <td>Grace &amp; Saleem (2019)</td>\n",
       "      <td>[Movies]</td>\n",
       "      <td>Sep 06</td>\n",
       "      <td>[01:24:01]</td>\n",
       "      <td>[15]</td>\n",
       "      <td>[ Comedy, Drama, Romance]</td>\n",
       "      <td>Release Date: Aug 19, 2019</td>\n",
       "      <td>[ Dru Castiglione, Kyle Daniel Hernandez, Shev...</td>\n",
       "      <td>[ English]</td>\n",
       "      <td>[ English]</td>\n",
       "      <td>https://www.thenetnaija.com/videos/movies</td>\n",
       "      <td>https://www.imdb.com/title/tt10649220/</td>\n",
       "      <td>An unintended road trip, a comical first dinne...</td>\n",
       "    </tr>\n",
       "    <tr>\n",
       "      <th>2</th>\n",
       "      <td>Barbie: Big City, Big Dreams (2021)</td>\n",
       "      <td>[Movies]</td>\n",
       "      <td>Sep 06</td>\n",
       "      <td>[01:03:00]</td>\n",
       "      <td>[37]</td>\n",
       "      <td>[ Animation, Family, Musical]</td>\n",
       "      <td>Release Date: Aug 20, 2021</td>\n",
       "      <td>[ America Young, Amber Eliese May, Greg Chun]</td>\n",
       "      <td>[ English]</td>\n",
       "      <td>[ English]</td>\n",
       "      <td>https://www.thenetnaija.com/videos/movies</td>\n",
       "      <td>https://www.imdb.com/title/tt15053428/</td>\n",
       "      <td>Barbie swaps the sunny shores of Malibu for th...</td>\n",
       "    </tr>\n",
       "    <tr>\n",
       "      <th>3</th>\n",
       "      <td>The J Team (2021)</td>\n",
       "      <td>[Movies]</td>\n",
       "      <td>Sep 04</td>\n",
       "      <td>[01:24:53]</td>\n",
       "      <td>[38]</td>\n",
       "      <td>[ Comedy, Family, Musical]</td>\n",
       "      <td>Release Date: Sep 3, 2021</td>\n",
       "      <td>[ JoJo Siwa, Tisha Campbell, Laura Soltis, Kia...</td>\n",
       "      <td>[ English]</td>\n",
       "      <td>[ English]</td>\n",
       "      <td>https://www.thenetnaija.com/videos/movies</td>\n",
       "      <td>https://www.imdb.com/title/tt14006530/</td>\n",
       "      <td>The story follows a young girl named JoJo whos...</td>\n",
       "    </tr>\n",
       "    <tr>\n",
       "      <th>4</th>\n",
       "      <td>Karen (2021)</td>\n",
       "      <td>[Movies]</td>\n",
       "      <td>Sep 03</td>\n",
       "      <td>[40]</td>\n",
       "      <td>0</td>\n",
       "      <td>[ Horro, Thriller]</td>\n",
       "      <td>Release Date: Sep 3, 2021</td>\n",
       "      <td>[ Taryn Manning, Cory Hardrict, Gregory Alan W...</td>\n",
       "      <td>[ English]</td>\n",
       "      <td>[ English]</td>\n",
       "      <td>https://www.thenetnaija.com/videos/movies</td>\n",
       "      <td>https://www.imdb.com/title/tt12636872/</td>\n",
       "      <td>[Not all neighbors are friendly.]</td>\n",
       "    </tr>\n",
       "  </tbody>\n",
       "</table>\n",
       "</div>"
      ],
      "text/plain": [
       "                                titles movie_types time_of_uplos  \\\n",
       "0                Sweet Carolina (2021)    [Movies]        Sep 07   \n",
       "1                Grace & Saleem (2019)    [Movies]        Sep 06   \n",
       "2  Barbie: Big City, Big Dreams (2021)    [Movies]        Sep 06   \n",
       "3                    The J Team (2021)    [Movies]        Sep 04   \n",
       "4                         Karen (2021)    [Movies]        Sep 03   \n",
       "\n",
       "  movie_lengths num_of_comments                         Genres  \\\n",
       "0    [01:24:40]            [25]     [ Comedy, Family, Romance]   \n",
       "1    [01:24:01]            [15]      [ Comedy, Drama, Romance]   \n",
       "2    [01:03:00]            [37]  [ Animation, Family, Musical]   \n",
       "3    [01:24:53]            [38]     [ Comedy, Family, Musical]   \n",
       "4          [40]               0             [ Horro, Thriller]   \n",
       "\n",
       "                Release_Dates  \\\n",
       "0  Release Date: May 15, 2021   \n",
       "1  Release Date: Aug 19, 2019   \n",
       "2  Release Date: Aug 20, 2021   \n",
       "3   Release Date: Sep 3, 2021   \n",
       "4   Release Date: Sep 3, 2021   \n",
       "\n",
       "                                              Starss   Languages   Subtitles  \\\n",
       "0    [ Lacey Chabert, Tyler Hynes, Gregory Harrison]  [ English]  [ English]   \n",
       "1  [ Dru Castiglione, Kyle Daniel Hernandez, Shev...  [ English]  [ English]   \n",
       "2      [ America Young, Amber Eliese May, Greg Chun]  [ English]  [ English]   \n",
       "3  [ JoJo Siwa, Tisha Campbell, Laura Soltis, Kia...  [ English]  [ English]   \n",
       "4  [ Taryn Manning, Cory Hardrict, Gregory Alan W...  [ English]  [ English]   \n",
       "\n",
       "                                movie_linkss  \\\n",
       "0  https://www.thenetnaija.com/videos/movies   \n",
       "1  https://www.thenetnaija.com/videos/movies   \n",
       "2  https://www.thenetnaija.com/videos/movies   \n",
       "3  https://www.thenetnaija.com/videos/movies   \n",
       "4  https://www.thenetnaija.com/videos/movies   \n",
       "\n",
       "                               imdb_links  \\\n",
       "0  https://www.imdb.com/title/tt14477372/   \n",
       "1  https://www.imdb.com/title/tt10649220/   \n",
       "2  https://www.imdb.com/title/tt15053428/   \n",
       "3  https://www.imdb.com/title/tt14006530/   \n",
       "4  https://www.imdb.com/title/tt12636872/   \n",
       "\n",
       "                                         mo_summarys  \n",
       "0       [A family's loss becomes an unexpected gift]  \n",
       "1  An unintended road trip, a comical first dinne...  \n",
       "2  Barbie swaps the sunny shores of Malibu for th...  \n",
       "3  The story follows a young girl named JoJo whos...  \n",
       "4                  [Not all neighbors are friendly.]  "
      ]
     },
     "execution_count": 13,
     "metadata": {},
     "output_type": "execute_result"
    }
   ],
   "source": [
    "df.head(5)"
   ]
  },
  {
   "cell_type": "code",
   "execution_count": null,
   "metadata": {},
   "outputs": [],
   "source": []
  }
 ],
 "metadata": {
  "kernelspec": {
   "display_name": "Python 3",
   "language": "python",
   "name": "python3"
  },
  "language_info": {
   "codemirror_mode": {
    "name": "ipython",
    "version": 3
   },
   "file_extension": ".py",
   "mimetype": "text/x-python",
   "name": "python",
   "nbconvert_exporter": "python",
   "pygments_lexer": "ipython3",
   "version": "3.7.6"
  }
 },
 "nbformat": 4,
 "nbformat_minor": 4
}
